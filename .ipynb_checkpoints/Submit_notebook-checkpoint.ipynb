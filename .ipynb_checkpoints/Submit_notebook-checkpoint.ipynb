{
 "cells": [
  {
   "cell_type": "markdown",
   "metadata": {},
   "source": [
    "<h1 align=\"center\"> Project 1 : Prediction of House Prices</h1>\n",
    "<h2 align=\"right\"> Team name : Kaggleswaggle</h2>\n",
    "<h3 align=\"right\"> Jisan Yoon, Amog Kamsetty, Jason Huber, Andrew Cullen</h3>"
   ]
  },
  {
   "cell_type": "code",
   "execution_count": 1,
   "metadata": {
    "collapsed": false
   },
   "outputs": [],
   "source": [
    "import numpy as np\n",
    "import pandas as pd\n",
    "import matplotlib.pyplot as plt\n",
    "from pandas import DataFrame, Series"
   ]
  },
  {
   "cell_type": "markdown",
   "metadata": {},
   "source": [
    "<h1 align=\"left\"> Basic data exploration</h1> # Graphs, summary statistics, and outlier detections"
   ]
  },
  {
   "cell_type": "markdown",
   "metadata": {},
   "source": [
    "<font size = \"2\" color = \"red\"> Delete this cell when submitting </font>\n",
    "\n",
    "<p> 2 points for graphs of any kind <br />\n",
    "2 points for statistics of any kind <br />\n",
    "3 points for thoroughness (did you analyze enough to get a good understanding of the data?) <br />\n",
    "3 points for quality/creativity </p>"
   ]
  },
  {
   "cell_type": "code",
   "execution_count": null,
   "metadata": {
    "collapsed": true
   },
   "outputs": [],
   "source": []
  },
  {
   "cell_type": "markdown",
   "metadata": {},
   "source": [
    "<h1 align=\"left\"> Data cleaning and Feature engineering</h1>"
   ]
  },
  {
   "cell_type": "markdown",
   "metadata": {},
   "source": [
    "<font size = \"2\" color = \"red\"> Delete this cell when submitting </font>\n",
    "\n",
    "<p> 5 points for cleaning the data of the most apparent problems (e.g. missing values, outliers, dummy variables, etc.) <br />\n",
    "2 points for feature engineering any variable <br />\n",
    "3 points for “creative/unique” feature engineering </p>\n"
   ]
  },
  {
   "cell_type": "code",
   "execution_count": null,
   "metadata": {
    "collapsed": true
   },
   "outputs": [],
   "source": []
  },
  {
   "cell_type": "markdown",
   "metadata": {},
   "source": [
    "<h1 align=\"left\"> Model building</h1>"
   ]
  },
  {
   "cell_type": "markdown",
   "metadata": {},
   "source": [
    "<font size = \"2\" color = \"red\"> Delete this cell when submitting </font>\n",
    "\n",
    "<p> 5 points for setting up the train and test sets correctly <br />\n",
    "2 points for successfully running a model <br />\n",
    "3 points for successfully running more than one model </p>"
   ]
  },
  {
   "cell_type": "code",
   "execution_count": null,
   "metadata": {
    "collapsed": true
   },
   "outputs": [],
   "source": []
  },
  {
   "cell_type": "markdown",
   "metadata": {},
   "source": [
    "<h1 align=\"left\"> Model evaluation</h1>"
   ]
  },
  {
   "cell_type": "markdown",
   "metadata": {},
   "source": [
    "<font size = \"2\" color = \"red\"> Delete this cell when submitting </font>\n",
    "\n",
    "<p> 7 points for correct out-of-sample test accuracy to the public leaderboard accuracy (within a reasonable threshold) <br />  \n",
    "3 points for demonstrating that your local test accuracy is correlated with the public leaderboard accuracy </p>"
   ]
  },
  {
   "cell_type": "code",
   "execution_count": null,
   "metadata": {
    "collapsed": true
   },
   "outputs": [],
   "source": []
  },
  {
   "cell_type": "markdown",
   "metadata": {},
   "source": [
    "<h1 align=\"left\"> Model interpretation</h1>"
   ]
  },
  {
   "cell_type": "markdown",
   "metadata": {},
   "source": [
    "<font size = \"2\" color = \"red\"> Delete this cell when submitting </font>\n",
    "\n",
    "<p> 4 points for interpretation of any kind <br/>\n",
    "3 points for thoroughness (did you fully grasp what your model is telling you about the data?) <br/>\n",
    "3 points for comparing different models</p>"
   ]
  },
  {
   "cell_type": "code",
   "execution_count": null,
   "metadata": {
    "collapsed": true
   },
   "outputs": [],
   "source": []
  }
 ],
 "metadata": {
  "anaconda-cloud": {},
  "kernelspec": {
   "display_name": "Python [Root]",
   "language": "python",
   "name": "Python [Root]"
  },
  "language_info": {
   "codemirror_mode": {
    "name": "ipython",
    "version": 3
   },
   "file_extension": ".py",
   "mimetype": "text/x-python",
   "name": "python",
   "nbconvert_exporter": "python",
   "pygments_lexer": "ipython3",
   "version": "3.5.2"
  }
 },
 "nbformat": 4,
 "nbformat_minor": 0
}
